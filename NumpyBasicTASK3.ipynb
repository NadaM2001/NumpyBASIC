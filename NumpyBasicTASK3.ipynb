{
 "cells": [
  {
   "cell_type": "code",
   "execution_count": 10,
   "id": "49e41be5-bb74-4814-b239-eee79c29567b",
   "metadata": {},
   "outputs": [
    {
     "name": "stdout",
     "output_type": "stream",
     "text": [
      "1.26.4\n"
     ]
    }
   ],
   "source": [
    "#Q1#\n",
    "import numpy as np\n",
    "\n",
    "print(np.__version__)\n",
    "\n"
   ]
  },
  {
   "cell_type": "code",
   "execution_count": 11,
   "id": "fab2f9e7-fd58-45e5-b97c-5fc188b09893",
   "metadata": {},
   "outputs": [
    {
     "name": "stdout",
     "output_type": "stream",
     "text": [
      "add(x1, x2, /, out=None, *, where=True, casting='same_kind', order='K', dtype=None, subok=True[, signature, extobj])\n",
      "\n",
      "Add arguments element-wise.\n",
      "\n",
      "Parameters\n",
      "----------\n",
      "x1, x2 : array_like\n",
      "    The arrays to be added.\n",
      "    If ``x1.shape != x2.shape``, they must be broadcastable to a common\n",
      "    shape (which becomes the shape of the output).\n",
      "out : ndarray, None, or tuple of ndarray and None, optional\n",
      "    A location into which the result is stored. If provided, it must have\n",
      "    a shape that the inputs broadcast to. If not provided or None,\n",
      "    a freshly-allocated array is returned. A tuple (possible only as a\n",
      "    keyword argument) must have length equal to the number of outputs.\n",
      "where : array_like, optional\n",
      "    This condition is broadcast over the input. At locations where the\n",
      "    condition is True, the `out` array will be set to the ufunc result.\n",
      "    Elsewhere, the `out` array will retain its original value.\n",
      "    Note that if an uninitialized `out` array is created via the default\n",
      "    ``out=None``, locations within it where the condition is False will\n",
      "    remain uninitialized.\n",
      "**kwargs\n",
      "    For other keyword-only arguments, see the\n",
      "    :ref:`ufunc docs <ufuncs.kwargs>`.\n",
      "\n",
      "Returns\n",
      "-------\n",
      "add : ndarray or scalar\n",
      "    The sum of `x1` and `x2`, element-wise.\n",
      "    This is a scalar if both `x1` and `x2` are scalars.\n",
      "\n",
      "Notes\n",
      "-----\n",
      "Equivalent to `x1` + `x2` in terms of array broadcasting.\n",
      "\n",
      "Examples\n",
      "--------\n",
      ">>> np.add(1.0, 4.0)\n",
      "5.0\n",
      ">>> x1 = np.arange(9.0).reshape((3, 3))\n",
      ">>> x2 = np.arange(3.0)\n",
      ">>> np.add(x1, x2)\n",
      "array([[  0.,   2.,   4.],\n",
      "       [  3.,   5.,   7.],\n",
      "       [  6.,   8.,  10.]])\n",
      "\n",
      "The ``+`` operator can be used as a shorthand for ``np.add`` on ndarrays.\n",
      "\n",
      ">>> x1 = np.arange(9.0).reshape((3, 3))\n",
      ">>> x2 = np.arange(3.0)\n",
      ">>> x1 + x2\n",
      "array([[ 0.,  2.,  4.],\n",
      "       [ 3.,  5.,  7.],\n",
      "       [ 6.,  8., 10.]])\n",
      "None\n"
     ]
    }
   ],
   "source": [
    "#Q2#\n",
    "\n",
    "import numpy as np\n",
    "\n",
    "print(np.info(np.add))\n"
   ]
  },
  {
   "cell_type": "code",
   "execution_count": 12,
   "id": "181df40f-86c7-4f4a-be6a-37b5545202e5",
   "metadata": {},
   "outputs": [
    {
     "name": "stdout",
     "output_type": "stream",
     "text": [
      "[1 2 3 4]\n",
      "True\n"
     ]
    }
   ],
   "source": [
    "# Q3 #\n",
    "\n",
    "import numpy as np\n",
    "\n",
    "x=np.array([1,2,3,4])\n",
    "\n",
    "print(x)\n",
    "\n",
    "print(np.all(x))"
   ]
  },
  {
   "cell_type": "code",
   "execution_count": 14,
   "id": "5c75e395-bb8e-43b4-a3e0-f7a6ed682930",
   "metadata": {},
   "outputs": [
    {
     "name": "stdout",
     "output_type": "stream",
     "text": [
      "[0 1 0 0]\n",
      "test whether any of the elements of a given array is non zero:\n",
      "True\n",
      "[0 0 0 0]\n",
      "False\n"
     ]
    }
   ],
   "source": [
    "# Q4 #\n",
    "\n",
    "import numpy as np\n",
    "\n",
    "x=np.array([0,1,0,0])\n",
    "print(x)\n",
    "\n",
    "print(\"test whether any of the elements of a given array is non zero:\")\n",
    "\n",
    "print(np.any(x))\n",
    "\n",
    "x=np.array([0,0,0,0])\n",
    "print(x)\n",
    "\n",
    "print(np.any(x))"
   ]
  },
  {
   "cell_type": "code",
   "execution_count": 16,
   "id": "4148d083-0cc6-4bed-8968-f668e0fa9365",
   "metadata": {},
   "outputs": [
    {
     "name": "stdout",
     "output_type": "stream",
     "text": [
      "[ 2.  3. nan inf]\n",
      "[ True  True False False]\n"
     ]
    }
   ],
   "source": [
    "# Q5 #\n",
    "\n",
    "import numpy as np \n",
    "\n",
    "x=np.array([2,3,np.nan,np.inf])\n",
    "\n",
    "print(x)\n",
    "print(np.isfinite(x))"
   ]
  },
  {
   "cell_type": "code",
   "execution_count": 17,
   "id": "73c5c4a3-0c77-4a44-a517-8c6717c14a69",
   "metadata": {},
   "outputs": [
    {
     "name": "stdout",
     "output_type": "stream",
     "text": [
      "[False False False  True False False]\n",
      "[False False  True False False False]\n"
     ]
    }
   ],
   "source": [
    "# Q6 #\n",
    "\n",
    "import numpy as np \n",
    "\n",
    "x=np.array([1,-2,-np.inf,np.inf,4,5])\n",
    "\n",
    "print(np.isposinf(x))\n",
    "print(np.isneginf(x))"
   ]
  },
  {
   "cell_type": "code",
   "execution_count": 18,
   "id": "f3fe4bc8-9bb3-40fd-9486-29a62fea57e4",
   "metadata": {},
   "outputs": [
    {
     "name": "stdout",
     "output_type": "stream",
     "text": [
      "[ 1.  2. nan inf]\n",
      "[False False  True False]\n"
     ]
    }
   ],
   "source": [
    "# Q7 #\n",
    "\n",
    "import numpy as np\n",
    "\n",
    "x=np.array([1,2,np.nan,np.inf])\n",
    "\n",
    "print(x)\n",
    "\n",
    "print(np.isnan(x))"
   ]
  },
  {
   "cell_type": "code",
   "execution_count": 29,
   "id": "f97d17f9-42cb-4842-b207-b0741d40d5b6",
   "metadata": {},
   "outputs": [
    {
     "name": "stdout",
     "output_type": "stream",
     "text": [
      "[2. +1.j 3. +0.j 4.5+0.j 5. +0.j 6. +0.j 0. +2.j]\n",
      "[ True False False False False  True]\n"
     ]
    }
   ],
   "source": [
    "# Q8 #\n",
    "\n",
    "import numpy as np \n",
    "\n",
    "x=np.array([2+1j,3+0j,4.5,5,6,2j])\n",
    "\n",
    "print(x)\n",
    "\n",
    "\n",
    "print(np.iscomplex(x))"
   ]
  },
  {
   "cell_type": "code",
   "execution_count": 30,
   "id": "d2f207a6-89d8-4a45-820c-27983b7d846e",
   "metadata": {},
   "outputs": [
    {
     "name": "stdout",
     "output_type": "stream",
     "text": [
      "checks equal tolerance\n",
      "False\n",
      "True\n",
      "False\n",
      "False\n",
      "True\n"
     ]
    }
   ],
   "source": [
    "# Q9 #\n",
    "\n",
    "import numpy as np \n",
    "\n",
    "print(\"checks equal tolerance\")\n",
    "\n",
    "print(np.allclose([1e10,1e-7],[1.00001e10,1e-8]))\n",
    "print(np.allclose([1e10,1e-8],[1.00001e10,1e-9]))\n",
    "print(np.allclose([1e10,1e-8],[1.0001e10,1e-9]))\n",
    "\n",
    "print(np.allclose([1.0,np.nan],[1.0,np.nan]))\n",
    "\n",
    "print(np.allclose([1.0,np.nan],[1.0,np.nan],equal_nan=True))"
   ]
  },
  {
   "cell_type": "code",
   "execution_count": 36,
   "id": "888d7bd6-9b91-430f-b631-26200b0e598c",
   "metadata": {},
   "outputs": [
    {
     "name": "stdout",
     "output_type": "stream",
     "text": [
      "[1 5 3]\n",
      "[4 5 6]\n",
      "[False False False]\n",
      "[False  True False]\n",
      "[ True False  True]\n",
      "[ True  True  True]\n"
     ]
    }
   ],
   "source": [
    "# Q10 #\n",
    "import numpy as np \n",
    "\n",
    "x=np.array([1,5,3])\n",
    "y=np.array([4,5,6])\n",
    "\n",
    "print(x)\n",
    "print(y)\n",
    "\n",
    "print(np.greater(x,y))\n",
    "\n",
    "print(np.greater_equal(x,y))\n",
    "\n",
    "print(np.less(x,y))\n",
    "\n",
    "print(np.less_equal(x,y))"
   ]
  },
  {
   "cell_type": "code",
   "execution_count": 40,
   "id": "cb09503e-3ee4-46b3-8390-9b4d456ffd5a",
   "metadata": {},
   "outputs": [
    {
     "name": "stdout",
     "output_type": "stream",
     "text": [
      "[ 11  22  33  44  55  66  77  88 100]\n",
      "[ 11.  22.  33.  44.  55.  66.  77.  88. 100.]\n",
      "[ True  True  True  True  True  True  True  True  True]\n",
      "True\n"
     ]
    }
   ],
   "source": [
    "# Q11 # \n",
    "\n",
    "x=np.array([11,22,33,44,55,66,77,88,100])\n",
    "y=np.array([11,22,33,44,55,66,77,88,100.0000])\n",
    "\n",
    "print(x)\n",
    "print(y)\n",
    "\n",
    "print(np.equal(x,y))\n",
    "\n",
    "print(np.allclose(x,y))\n"
   ]
  },
  {
   "cell_type": "code",
   "execution_count": 42,
   "id": "fccbf96d-9065-4a61-9735-1298a312abf1",
   "metadata": {},
   "outputs": [
    {
     "name": "stdout",
     "output_type": "stream",
     "text": [
      "[  1   7  13 105]\n",
      "4\n"
     ]
    }
   ],
   "source": [
    "# Q12 #\n",
    "\n",
    "import numpy as np\n",
    "\n",
    "x=np.array([1,7,13,105])\n",
    "\n",
    "print(x)\n",
    "\n",
    "print(x.size)"
   ]
  },
  {
   "cell_type": "code",
   "execution_count": 47,
   "id": "033ebfb9-e8a3-41c5-8132-d544b1e331aa",
   "metadata": {},
   "outputs": [
    {
     "name": "stdout",
     "output_type": "stream",
     "text": [
      "[0. 0. 0. 0. 0. 0. 0. 0. 0. 0.]\n",
      "[1. 1. 1. 1. 1. 1. 1. 1. 1. 1.]\n",
      "[5. 5. 5. 5. 5. 5. 5. 5. 5. 5.]\n"
     ]
    }
   ],
   "source": [
    "# Q13 #\n",
    "\n",
    "import numpy as np \n",
    "\n",
    "print(np.zeros(10))\n",
    "\n",
    "print(np.ones(10))\n",
    "\n",
    "print(np.ones(10)*5)"
   ]
  },
  {
   "cell_type": "code",
   "execution_count": 48,
   "id": "02a1f87e-0739-40f9-9110-7b56bc0d7750",
   "metadata": {},
   "outputs": [
    {
     "name": "stdout",
     "output_type": "stream",
     "text": [
      "[30 31 32 33 34 35 36 37 38 39 40 41 42 43 44 45 46 47 48 49 50 51 52 53\n",
      " 54 55 56 57 58 59 60 61 62 63 64 65 66 67 68 69 70]\n"
     ]
    }
   ],
   "source": [
    "# Q14 #\n",
    "\n",
    "import numpy as np\n",
    "\n",
    "print(np.arange(30,71))"
   ]
  },
  {
   "cell_type": "code",
   "execution_count": 49,
   "id": "27fae18b-464a-49b1-841a-9983bfec3b4b",
   "metadata": {},
   "outputs": [
    {
     "name": "stdout",
     "output_type": "stream",
     "text": [
      "[30 32 34 36 38 40 42 44 46 48 50 52 54 56 58 60 62 64 66 68 70]\n"
     ]
    }
   ],
   "source": [
    "# Q15 #\n",
    "\n",
    "import numpy as np\n",
    "\n",
    "print(np.arange(30,71,2))"
   ]
  },
  {
   "cell_type": "code",
   "execution_count": 51,
   "id": "c5433168-5905-4e71-9001-11e471cb4156",
   "metadata": {},
   "outputs": [
    {
     "name": "stdout",
     "output_type": "stream",
     "text": [
      "[[1. 0. 0.]\n",
      " [0. 1. 0.]\n",
      " [0. 0. 1.]]\n"
     ]
    }
   ],
   "source": [
    "# Q16 # \n",
    "\n",
    "import numpy as np\n",
    "\n",
    "print(np.identity(3))"
   ]
  },
  {
   "cell_type": "code",
   "execution_count": 57,
   "id": "d5344d9b-ec3b-443f-993a-fc446cf9ec68",
   "metadata": {},
   "outputs": [
    {
     "name": "stdout",
     "output_type": "stream",
     "text": [
      "0.43786533248326087\n"
     ]
    }
   ],
   "source": [
    "# Q17 #\n",
    "\n",
    "import numpy as np \n",
    "\n",
    "print(np.random.normal(0,1))"
   ]
  },
  {
   "cell_type": "code",
   "execution_count": 60,
   "id": "f86480a1-13ae-47f1-ae9e-2147035aa6d9",
   "metadata": {},
   "outputs": [
    {
     "name": "stdout",
     "output_type": "stream",
     "text": [
      "[ 1.78586191  0.83147847 -0.12239807  2.03787794 -0.49239246 -0.54531862\n",
      " -0.92759873  0.06003009 -1.58464422 -0.545599   -0.84671371 -0.56176074\n",
      " -0.7660907  -0.44958407 -1.40879832]\n"
     ]
    }
   ],
   "source": [
    "# Q18 # \n",
    "\n",
    "import numpy as np\n",
    "\n",
    "print(np.random.normal(0,1,15))\n"
   ]
  },
  {
   "cell_type": "code",
   "execution_count": 62,
   "id": "275412b3-0b39-4ff8-80de-18f72a036e65",
   "metadata": {},
   "outputs": [
    {
     "name": "stdout",
     "output_type": "stream",
     "text": [
      "[15 16 17 18 19 20 21 22 23 24 25 26 27 28 29 30 31 32 33 34 35 36 37 38\n",
      " 39 40 41 42 43 44 45 46 47 48 49 50 51 52 53 54]\n",
      "[16 17 18 19 20 21 22 23 24 25 26 27 28 29 30 31 32 33 34 35 36 37 38 39\n",
      " 40 41 42 43 44 45 46 47 48 49 50 51 52 53]\n"
     ]
    }
   ],
   "source": [
    "# Q19 #\n",
    "\n",
    "import numpy as np \n",
    "\n",
    "x=np.arange(15,55)\n",
    "\n",
    "print(x)\n",
    "\n",
    "print(x[1:-1])"
   ]
  },
  {
   "cell_type": "code",
   "execution_count": 64,
   "id": "64542b97-bf6b-4ce2-b2d3-02fe5123ee9a",
   "metadata": {},
   "outputs": [
    {
     "name": "stdout",
     "output_type": "stream",
     "text": [
      "[[10 11 12 13]\n",
      " [14 15 16 17]\n",
      " [18 19 20 21]]\n",
      "10\n",
      "11\n",
      "12\n",
      "13\n",
      "14\n",
      "15\n",
      "16\n",
      "17\n",
      "18\n",
      "19\n",
      "20\n",
      "21\n"
     ]
    }
   ],
   "source": [
    "# Q20 #\n",
    "\n",
    "import numpy as np \n",
    "\n",
    "print(np.arange(10,22).reshape((3,4)))\n",
    "\n",
    "for x in np.nditer(np.arange(10,22)):\n",
    "    print(x)"
   ]
  },
  {
   "cell_type": "code",
   "execution_count": 71,
   "id": "72f19100-8cfc-4f81-9b11-484f14bb5906",
   "metadata": {},
   "outputs": [
    {
     "name": "stdout",
     "output_type": "stream",
     "text": [
      "[10.   19.75 29.5  39.25 49.  ]\n"
     ]
    }
   ],
   "source": [
    "# Q21 #\n",
    "\n",
    "import numpy as np\n",
    "\n",
    "print(np.linspace(10,49,5))"
   ]
  },
  {
   "cell_type": "code",
   "execution_count": 73,
   "id": "602139f4-83b8-4922-807e-e0b3806321aa",
   "metadata": {},
   "outputs": [
    {
     "name": "stdout",
     "output_type": "stream",
     "text": [
      "[ 0  1  2  3  4  5  6  7  8  9 10 11 12 13 14 15 16 17 18 19 20]\n",
      "[  0   1   2   3   4   5   6   7   8  -9 -10 -11 -12 -13 -14 -15  16  17\n",
      "  18  19  20]\n"
     ]
    }
   ],
   "source": [
    "# Q22 # \n",
    "\n",
    "import numpy as np\n",
    "\n",
    "print(np.arange(21))\n",
    "\n",
    "x=np.arange(21)\n",
    "\n",
    "x[(x>=9)&(x<=15)]*=-1\n",
    "\n",
    "print(x)\n"
   ]
  },
  {
   "cell_type": "code",
   "execution_count": 75,
   "id": "15748ad2-7299-4adf-b8e7-952a4f8ee5f0",
   "metadata": {},
   "outputs": [
    {
     "name": "stdout",
     "output_type": "stream",
     "text": [
      "[ 1  3 10  9  0]\n"
     ]
    }
   ],
   "source": [
    "# Q23 #\n",
    "\n",
    "import numpy as np\n",
    "\n",
    "print(np.random.randint(0,11,5))"
   ]
  },
  {
   "cell_type": "code",
   "execution_count": 76,
   "id": "61b1b040-6190-4413-9219-457bf612f09c",
   "metadata": {},
   "outputs": [
    {
     "name": "stdout",
     "output_type": "stream",
     "text": [
      "[ 4 10 18]\n"
     ]
    }
   ],
   "source": [
    "# Q24 #\n",
    "\n",
    "import numpy as np \n",
    "\n",
    "x=np.array([1,2,3])\n",
    "\n",
    "y=np.array([4,5,6])\n",
    "\n",
    "z=x*y\n",
    "\n",
    "print(z)"
   ]
  },
  {
   "cell_type": "code",
   "execution_count": 77,
   "id": "0679d290-5e6e-4b4d-be2f-e1442af6aba6",
   "metadata": {},
   "outputs": [
    {
     "name": "stdout",
     "output_type": "stream",
     "text": [
      "[[10 11 12 13]\n",
      " [14 15 16 17]\n",
      " [18 19 20 21]]\n"
     ]
    }
   ],
   "source": [
    "# Q25 #\n",
    "\n",
    "import numpy as np \n",
    "\n",
    "print(np.arange(10,22).reshape((3,4)))"
   ]
  },
  {
   "cell_type": "code",
   "execution_count": 79,
   "id": "b21acf1b-c68c-4f72-8bb2-e5773c25cf64",
   "metadata": {},
   "outputs": [
    {
     "name": "stdout",
     "output_type": "stream",
     "text": [
      "(3, 4)\n"
     ]
    }
   ],
   "source": [
    "# Q26 # \n",
    "\n",
    "import numpy as np \n",
    "\n",
    "print(np.arange(10,22).reshape((3,4)).shape)"
   ]
  },
  {
   "cell_type": "code",
   "execution_count": 81,
   "id": "86147c85-235c-449b-b86b-e9c5888956ec",
   "metadata": {},
   "outputs": [
    {
     "name": "stdout",
     "output_type": "stream",
     "text": [
      "[[1. 0. 0.]\n",
      " [0. 1. 0.]\n",
      " [0. 0. 1.]]\n"
     ]
    }
   ],
   "source": [
    "# Q27 #\n",
    "\n",
    "import numpy as np\n",
    "\n",
    "print(np.identity(3))"
   ]
  },
  {
   "cell_type": "code",
   "execution_count": 85,
   "id": "e9d4f2f4-8d0a-48e4-a18f-fc11addd4a2e",
   "metadata": {},
   "outputs": [
    {
     "name": "stdout",
     "output_type": "stream",
     "text": [
      "[[1. 1. 1. 1. 1. 1. 1. 1. 1. 1.]\n",
      " [1. 0. 0. 0. 0. 0. 0. 0. 0. 1.]\n",
      " [1. 0. 0. 0. 0. 0. 0. 0. 0. 1.]\n",
      " [1. 0. 0. 0. 0. 0. 0. 0. 0. 1.]\n",
      " [1. 0. 0. 0. 0. 0. 0. 0. 0. 1.]\n",
      " [1. 0. 0. 0. 0. 0. 0. 0. 0. 1.]\n",
      " [1. 0. 0. 0. 0. 0. 0. 0. 0. 1.]\n",
      " [1. 0. 0. 0. 0. 0. 0. 0. 0. 1.]\n",
      " [1. 0. 0. 0. 0. 0. 0. 0. 0. 1.]\n",
      " [1. 1. 1. 1. 1. 1. 1. 1. 1. 1.]]\n"
     ]
    }
   ],
   "source": [
    "# Q28 #\n",
    "\n",
    "import numpy as np\n",
    "\n",
    "x=np.ones((10,10))\n",
    "\n",
    "x[1:-1,1:-1]=0\n",
    "print(x)"
   ]
  },
  {
   "cell_type": "code",
   "execution_count": 88,
   "id": "7e11d45d-9d53-4e49-a37f-d8c625e4fd71",
   "metadata": {},
   "outputs": [
    {
     "name": "stdout",
     "output_type": "stream",
     "text": [
      "[[1 0 0 0 0]\n",
      " [0 2 0 0 0]\n",
      " [0 0 3 0 0]\n",
      " [0 0 0 4 0]\n",
      " [0 0 0 0 5]]\n"
     ]
    }
   ],
   "source": [
    "# Q29 #\n",
    "\n",
    "import numpy as np \n",
    "\n",
    "print(np.diag([1,2,3,4,5]))"
   ]
  },
  {
   "cell_type": "code",
   "execution_count": 90,
   "id": "4314a3a8-2794-40b6-9a36-c5d467b16301",
   "metadata": {},
   "outputs": [
    {
     "name": "stdout",
     "output_type": "stream",
     "text": [
      "[[0. 1. 0. 1.]\n",
      " [1. 0. 1. 0.]\n",
      " [0. 1. 0. 1.]\n",
      " [1. 0. 1. 0.]]\n"
     ]
    }
   ],
   "source": [
    "# Q30 # \n",
    "\n",
    "import numpy as np\n",
    "\n",
    "x=np.zeros((4,4))\n",
    "\n",
    "x[::2,1::2]=1\n",
    "x[1::2,::2]=1\n",
    "\n",
    "print(x)"
   ]
  },
  {
   "cell_type": "code",
   "execution_count": 91,
   "id": "9d3385e2-4cb9-41dd-9a95-0a173ea4cfa7",
   "metadata": {},
   "outputs": [
    {
     "name": "stdout",
     "output_type": "stream",
     "text": [
      "[[[0.11189199 0.48416648 0.11507388]\n",
      "  [0.89644185 0.50263382 0.02421358]\n",
      "  [0.0521461  0.64943122 0.84343465]]\n",
      "\n",
      " [[0.83564855 0.22628272 0.95878241]\n",
      "  [0.87648903 0.39776044 0.33553751]\n",
      "  [0.01983569 0.37379125 0.31809208]]\n",
      "\n",
      " [[0.26504301 0.48236228 0.76148534]\n",
      "  [0.55376803 0.0547075  0.30456697]\n",
      "  [0.46872456 0.27272964 0.3173105 ]]]\n"
     ]
    }
   ],
   "source": [
    "# Q31 #\n",
    "\n",
    "import numpy as np \n",
    "\n",
    "print(np.random.random((3,3,3)))"
   ]
  },
  {
   "cell_type": "code",
   "execution_count": 95,
   "id": "e47bd537-ffa7-4ce6-a2ae-d9c3c3993522",
   "metadata": {},
   "outputs": [
    {
     "name": "stdout",
     "output_type": "stream",
     "text": [
      "8\n",
      "[4 4]\n",
      "[5 3]\n"
     ]
    }
   ],
   "source": [
    "# Q32 #\n",
    "\n",
    "import numpy as np\n",
    "\n",
    "x=np.array([[2,3],[2,1]])\n",
    "\n",
    "print(np.sum(x))\n",
    "\n",
    "print(np.sum(x,axis=0))\n",
    "\n",
    "print(np.sum(x,axis=1))"
   ]
  },
  {
   "cell_type": "code",
   "execution_count": 96,
   "id": "059467f4-3daf-423d-af15-32391ef1a6e4",
   "metadata": {},
   "outputs": [
    {
     "name": "stdout",
     "output_type": "stream",
     "text": [
      "13\n"
     ]
    }
   ],
   "source": [
    "# Q33 # \n",
    "import numpy as np\n",
    "\n",
    "x=np.array([2,3])\n",
    "y=np.array([2,3])\n",
    "\n",
    "print(np.dot(x,y))"
   ]
  },
  {
   "cell_type": "code",
   "execution_count": 107,
   "id": "f4692566-2afa-46e4-925a-aced61ae57bb",
   "metadata": {},
   "outputs": [
    {
     "name": "stdout",
     "output_type": "stream",
     "text": [
      "[[2 4 6]\n",
      " [2 3 4]]\n"
     ]
    }
   ],
   "source": [
    "# Q34 #\n",
    "\n",
    "import numpy as np \n",
    "\n",
    "x=np.array([[1,2,3],[1,1,1]])\n",
    "\n",
    "y=np.array([1,2,3])\n",
    "\n",
    "z=np.empty_like(x)\n",
    "\n",
    "for i in range(2):\n",
    "    z[i, :]=x[i, :]+y\n",
    "\n",
    "print(z)"
   ]
  },
  {
   "cell_type": "code",
   "execution_count": 108,
   "id": "ebaa124c-d89f-4028-a41e-8d1a5ee7db98",
   "metadata": {},
   "outputs": [
    {
     "name": "stdout",
     "output_type": "stream",
     "text": [
      "True\n"
     ]
    }
   ],
   "source": [
    "# Q35 # \n",
    "\n",
    "import numpy as np \n",
    "\n",
    "import os\n",
    "\n",
    "x=np.arange(20)\n",
    "\n",
    "np.save('temp_arra.npy',x)\n",
    "\n",
    "if os.path.exists('temp_arra.npy'):\n",
    "\n",
    "    x2=np.load('temp_arra.npy')\n",
    "    print(np.array_equal(x,x2))"
   ]
  },
  {
   "cell_type": "code",
   "execution_count": null,
   "id": "f6c67d46-1e46-43c0-a823-b9d199608baa",
   "metadata": {},
   "outputs": [],
   "source": [
    "# Q37 #\n",
    "\n",
    "import numpy as np \n",
    "\n"
   ]
  },
  {
   "cell_type": "code",
   "execution_count": 109,
   "id": "21c130a6-b4a5-477e-b920-920c53992f95",
   "metadata": {},
   "outputs": [
    {
     "name": "stdout",
     "output_type": "stream",
     "text": [
      "[1 2 3 4]\n",
      "True\n"
     ]
    }
   ],
   "source": [
    "# Q38 #\n",
    "\n",
    "import numpy as np \n",
    "\n",
    "import os\n",
    "\n",
    "x=np.array([1,2,3,4])\n",
    "\n",
    "bytes=x.tobytes()\n",
    "\n",
    "x2=np.frombuffer(bytes,dtype=x.dtype)\n",
    "\n",
    "print(x2)\n",
    "\n",
    "print(np.array_equal(x,x2))"
   ]
  },
  {
   "cell_type": "code",
   "execution_count": 111,
   "id": "58444f53-c1bd-4ced-8c73-24d990a72d3f",
   "metadata": {},
   "outputs": [
    {
     "name": "stdout",
     "output_type": "stream",
     "text": [
      "True\n"
     ]
    }
   ],
   "source": [
    "# Q39 #\n",
    "\n",
    "import numpy as np\n",
    "\n",
    "x=[[1,2],[3,4]]\n",
    "\n",
    "y=np.array(x)\n",
    "\n",
    "x2=y.tolist()\n",
    "\n",
    "print(x==x2)"
   ]
  },
  {
   "cell_type": "code",
   "execution_count": 113,
   "id": "1744d38b-726e-4884-887f-00cb54e886fa",
   "metadata": {},
   "outputs": [
    {
     "data": {
      "image/png": "[encoded data removed]",
      "text/plain": [
       "<Figure size 640x480 with 1 Axes>"
      ]
     },
     "metadata": {},
     "output_type": "display_data"
    }
   ],
   "source": [
    "# Q40 #\n",
    "\n",
    "import numpy as np\n",
    "\n",
    "import matplotlib.pyplot as plt\n",
    "\n",
    "x=np.arange(0,3*np.pi,0.2)\n",
    "\n",
    "y=np.sin(x)\n",
    "\n",
    "plt.plot(x,y)\n",
    "\n",
    "plt.show()"
   ]
  },
  {
   "cell_type": "code",
   "execution_count": 115,
   "id": "7d9c1ded-0bdc-4c3e-9e64-d468461dd599",
   "metadata": {},
   "outputs": [
    {
     "name": "stdout",
     "output_type": "stream",
     "text": [
      "<class 'numpy.float32'>\n",
      "<class 'float'>\n"
     ]
    }
   ],
   "source": [
    "# Q41 # \n",
    "\n",
    "import numpy as np \n",
    "\n",
    "x=np.float32(0)\n",
    "print(type(x))\n",
    "\n",
    "pyval=x.item()\n",
    "\n",
    "print(type(pyval))"
   ]
  },
  {
   "cell_type": "code",
   "execution_count": 117,
   "id": "e7880b5d-e600-4089-b189-6f0d3f622bf7",
   "metadata": {},
   "outputs": [
    {
     "name": "stdout",
     "output_type": "stream",
     "text": [
      "[[1 2 0]\n",
      " [3 0 4]\n",
      " [5 6 7]\n",
      " [0 8 9]]\n",
      "[9 2 0]\n"
     ]
    }
   ],
   "source": [
    "# Q42 #\n",
    "\n",
    "import numpy as np\n",
    "\n",
    "def add_elements(m):\n",
    "    row,col=m.shape\n",
    "    mask=np.ones_like(m,dtype=bool)\n",
    "\n",
    "\n",
    "    for j in range(col):\n",
    "        zero_found=False\n",
    "\n",
    "        for i in range(row):\n",
    "            if zero_found:\n",
    "                mask[i,j]=False\n",
    "            if m[i,j]==0:\n",
    "                zero_found=True\n",
    "\n",
    "    filter=np.where(mask,m,0)\n",
    "    result=filter.sum(axis=0)\n",
    "    return result\n",
    "\n",
    "m=np.array([\n",
    "    [1,2,0],\n",
    "    [3,0,4],\n",
    "    [5,6,7],\n",
    "    [0,8,9]\n",
    "])\n",
    "\n",
    "result=add_elements(m)\n",
    "print(m)\n",
    "\n",
    "print(result)"
   ]
  },
  {
   "cell_type": "code",
   "execution_count": 118,
   "id": "83783ed5-732e-4aac-b170-d13d34c315b1",
   "metadata": {},
   "outputs": [
    {
     "name": "stdout",
     "output_type": "stream",
     "text": [
      "[[ 1.  2.  3.  4. nan]\n",
      " [ 5.  6.  7.  8.  9.]\n",
      " [nan  2. nan  2. 33.]]\n",
      "[[False False False False  True]\n",
      " [False False False False False]\n",
      " [ True False  True False False]]\n"
     ]
    }
   ],
   "source": [
    "# Q43 #\n",
    "\n",
    "import numpy as np\n",
    "\n",
    "x=np.array([\n",
    "   [1,2,3,4,np.nan],\n",
    "    [5,6,7,8,9],\n",
    "    [np.nan,2,np.nan,2,33]]\n",
    ")\n",
    "\n",
    "print(x)\n",
    "\n",
    "print(np.isnan(x))"
   ]
  },
  {
   "cell_type": "code",
   "execution_count": 123,
   "id": "b411d5e6-de7b-48e5-85bc-dcb4a89b3fb1",
   "metadata": {},
   "outputs": [
    {
     "name": "stdout",
     "output_type": "stream",
     "text": [
      "[False False False]\n"
     ]
    }
   ],
   "source": [
    "# Q44 #\n",
    "\n",
    "import numpy as np \n",
    "\n",
    "x=np.array([1,2,3])\n",
    "y=np.array([4,5,8])\n",
    "\n",
    "print(np.equal(x,y))"
   ]
  },
  {
   "cell_type": "code",
   "execution_count": 127,
   "id": "a36e8a93-8311-406b-9f19-912ebed27076",
   "metadata": {},
   "outputs": [
    {
     "name": "stdout",
     "output_type": "stream",
     "text": [
      "[1 2 3 4 5 6 7 8 9]\n",
      "[10 11 12 13 14 15 16 17 18 19 20 21 22 23 24 25 26 27 28 29 30 31 32 33\n",
      " 34 35 36 37 38 39 40 41 42 43 44 45 46 47 48 49 50 51 52 53 54 55 56 57\n",
      " 58 59 60 61 62 63 64 65 66 67 68 69 70 71 72 73 74 75 76 77 78 79 80 81\n",
      " 82 83 84 85 86 87 88 89 90 91 92 93 94 95 96 97 98 99]\n",
      "[100 101 102 103 104 105 106 107 108 109 110 111 112 113 114 115 116 117\n",
      " 118 119 120 121 122 123 124 125 126 127 128 129 130 131 132 133 134 135\n",
      " 136 137 138 139 140 141 142 143 144 145 146 147 148 149 150 151 152 153\n",
      " 154 155 156 157 158 159 160 161 162 163 164 165 166 167 168 169 170 171\n",
      " 172 173 174 175 176 177 178 179 180 181 182 183 184 185 186 187 188 189\n",
      " 190 191 192 193 194 195 196 197 198 199 200 201 202 203 204 205 206 207\n",
      " 208 209 210 211 212 213 214 215 216 217 218 219 220 221 222 223 224 225\n",
      " 226 227 228 229 230 231 232 233 234 235 236 237 238 239 240 241 242 243\n",
      " 244 245 246 247 248 249 250 251 252 253 254 255 256 257 258 259 260 261\n",
      " 262 263 264 265 266 267 268 269 270 271 272 273 274 275 276 277 278 279\n",
      " 280 281 282 283 284 285 286 287 288 289 290 291 292 293 294 295 296 297\n",
      " 298 299 300 301 302 303 304 305 306 307 308 309 310 311 312 313 314 315\n",
      " 316 317 318 319 320 321 322 323 324 325 326 327 328 329 330 331 332 333\n",
      " 334 335 336 337 338 339 340 341 342 343 344 345 346 347 348 349 350 351\n",
      " 352 353 354 355 356 357 358 359 360 361 362 363 364 365 366 367 368 369\n",
      " 370 371 372 373 374 375 376 377 378 379 380 381 382 383 384 385 386 387\n",
      " 388 389 390 391 392 393 394 395 396 397 398 399 400 401 402 403 404 405\n",
      " 406 407 408 409 410 411 412 413 414 415 416 417 418 419 420 421 422 423\n",
      " 424 425 426 427 428 429 430 431 432 433 434 435 436 437 438 439 440 441\n",
      " 442 443 444 445 446 447 448 449 450 451 452 453 454 455 456 457 458 459\n",
      " 460 461 462 463 464 465 466 467 468 469 470 471 472 473 474 475 476 477\n",
      " 478 479 480 481 482 483 484 485 486 487 488 489 490 491 492 493 494 495\n",
      " 496 497 498 499 500 501 502 503 504 505 506 507 508 509 510 511 512 513\n",
      " 514 515 516 517 518 519 520 521 522 523 524 525 526 527 528 529 530 531\n",
      " 532 533 534 535 536 537 538 539 540 541 542 543 544 545 546 547 548 549\n",
      " 550 551 552 553 554 555 556 557 558 559 560 561 562 563 564 565 566 567\n",
      " 568 569 570 571 572 573 574 575 576 577 578 579 580 581 582 583 584 585\n",
      " 586 587 588 589 590 591 592 593 594 595 596 597 598 599 600 601 602 603\n",
      " 604 605 606 607 608 609 610 611 612 613 614 615 616 617 618 619 620 621\n",
      " 622 623 624 625 626 627 628 629 630 631 632 633 634 635 636 637 638 639\n",
      " 640 641 642 643 644 645 646 647 648 649 650 651 652 653 654 655 656 657\n",
      " 658 659 660 661 662 663 664 665 666 667 668 669 670 671 672 673 674 675\n",
      " 676 677 678 679 680 681 682 683 684 685 686 687 688 689 690 691 692 693\n",
      " 694 695 696 697 698 699 700 701 702 703 704 705 706 707 708 709 710 711\n",
      " 712 713 714 715 716 717 718 719 720 721 722 723 724 725 726 727 728 729\n",
      " 730 731 732 733 734 735 736 737 738 739 740 741 742 743 744 745 746 747\n",
      " 748 749 750 751 752 753 754 755 756 757 758 759 760 761 762 763 764 765\n",
      " 766 767 768 769 770 771 772 773 774 775 776 777 778 779 780 781 782 783\n",
      " 784 785 786 787 788 789 790 791 792 793 794 795 796 797 798 799 800 801\n",
      " 802 803 804 805 806 807 808 809 810 811 812 813 814 815 816 817 818 819\n",
      " 820 821 822 823 824 825 826 827 828 829 830 831 832 833 834 835 836 837\n",
      " 838 839 840 841 842 843 844 845 846 847 848 849 850 851 852 853 854 855\n",
      " 856 857 858 859 860 861 862 863 864 865 866 867 868 869 870 871 872 873\n",
      " 874 875 876 877 878 879 880 881 882 883 884 885 886 887 888 889 890 891\n",
      " 892 893 894 895 896 897 898 899 900 901 902 903 904 905 906 907 908 909\n",
      " 910 911 912 913 914 915 916 917 918 919 920 921 922 923 924 925 926 927\n",
      " 928 929 930 931 932 933 934 935 936 937 938 939 940 941 942 943 944 945\n",
      " 946 947 948 949 950 951 952 953 954 955 956 957 958 959 960 961 962 963\n",
      " 964 965 966 967 968 969 970 971 972 973 974 975 976 977 978 979 980 981\n",
      " 982 983 984 985 986 987 988 989 990 991 992 993 994 995 996 997 998 999]\n"
     ]
    }
   ],
   "source": [
    "# Q45 #\n",
    "\n",
    "import numpy as np \n",
    "\n",
    "print(np.arange(1,10))\n",
    "print(np.arange(10,100))\n",
    "print(np.arange(100,1000))\n"
   ]
  },
  {
   "cell_type": "code",
   "execution_count": 128,
   "id": "57744bdc-bccf-41c2-939b-45cbdf2d9714",
   "metadata": {},
   "outputs": [
    {
     "name": "stdout",
     "output_type": "stream",
     "text": [
      "[[1 2 3]\n",
      " [4 5 6]\n",
      " [7 8 9]]\n"
     ]
    }
   ],
   "source": [
    "# Q46 #\n",
    "\n",
    "import numpy as np\n",
    "\n",
    "print(np.arange(1,10).reshape(3,3))"
   ]
  },
  {
   "cell_type": "code",
   "execution_count": 129,
   "id": "91115d56-4e4a-4ebd-83b2-b89593dac301",
   "metadata": {},
   "outputs": [
    {
     "name": "stdout",
     "output_type": "stream",
     "text": [
      "[0.28482105 0.57399283 0.03561865 0.90800508 0.41746002 0.6141236\n",
      " 0.83351592 0.22008416 0.41221517 0.13649519 0.94947126 0.17806331\n",
      " 0.5986177  0.1149411  0.07775867 0.22434401 0.1635928  0.37521903\n",
      " 0.62539283 0.32240143 0.28891809 0.96997831 0.18882387 0.48927929\n",
      " 0.88044821 0.94861885 0.77641338 0.45850638 0.15006631 0.81140051\n",
      " 0.87239766 0.00744557 0.0991713  0.41276968 0.02328601 0.69606325\n",
      " 0.8259007  0.72460744 0.85096695 0.900549  ]\n"
     ]
    }
   ],
   "source": [
    "# Q47 #\n",
    "\n",
    "import numpy as np \n",
    "\n",
    "print(np.random.rand(40))\n"
   ]
  },
  {
   "cell_type": "code",
   "execution_count": 132,
   "id": "2ca042d5-a0bc-4a90-894b-e3d777a92ffe",
   "metadata": {},
   "outputs": [
    {
     "name": "stdout",
     "output_type": "stream",
     "text": [
      "[[201.6908267  200.37467631 200.68394275 195.51750123]\n",
      " [197.92478992 201.07066048 201.79714021 198.1282331 ]\n",
      " [200.96238963 200.77744291 200.61875865 199.05613894]\n",
      " [198.48492638 198.38860811 197.55239946 200.47003621]\n",
      " [199.91545839 202.99877319 202.01069857 200.77735483]\n",
      " [199.67739161 193.89831807 202.14273593 202.54951299]\n",
      " [199.53450969 199.7512602  199.79145727 202.97687757]\n",
      " [200.24634413 196.04606934 198.30611253 197.88701546]\n",
      " [201.78450912 203.94032834 198.21152803 196.91446071]\n",
      " [201.0082481  197.03285104 200.63052763 197.82590294]]\n"
     ]
    }
   ],
   "source": [
    "# Q48 #\n",
    "\n",
    "import numpy as np \n",
    "\n",
    "np.random.seed(20)\n",
    "\n",
    "cbrt=np.cbrt(7)\n",
    "\n",
    "print(cbrt*np.random.randn(10,4)+200)"
   ]
  },
  {
   "cell_type": "code",
   "execution_count": 134,
   "id": "1db13a96-bc52-4e58-8b7c-1ff2192d87df",
   "metadata": {},
   "outputs": [
    {
     "name": "stdout",
     "output_type": "stream",
     "text": [
      "[3 5 5 9 7]\n",
      "[8 6 2 7 3]\n"
     ]
    }
   ],
   "source": [
    "# Q49 #\n",
    "\n",
    "import numpy as np \n",
    "\n",
    "x=np.array([1,2,3,4,5,6,7,8,9])\n",
    "size1=5\n",
    "\n",
    "print(np.random.choice(x,size=size1,replace=True))\n",
    "\n",
    "print(np.random.choice(x,size=size1,replace=False))\n",
    "\n"
   ]
  },
  {
   "cell_type": "code",
   "execution_count": 135,
   "id": "dd40d5bc-7af5-40ba-b293-adaa2a11a551",
   "metadata": {},
   "outputs": [
    {
     "name": "stdout",
     "output_type": "stream",
     "text": [
      "[[0.34475163 0.70310053 0.5273376  0.65931696]\n",
      " [0.37980555 0.2918922  0.55722886 0.0841636 ]\n",
      " [0.63128167 0.94457049 0.89123753 0.87858258]\n",
      " [0.7081161  0.6204306  0.77780853 0.45940947]]\n"
     ]
    }
   ],
   "source": [
    "# Q50 #\n",
    "\n",
    "import numpy as np \n",
    "\n",
    "x=np.random.rand(4,4)\n",
    "\n",
    "swap=x.copy()\n",
    "\n",
    "swap[[0,-1]]=swap[[-1,0]]\n",
    "\n",
    "print(swap)\n",
    "\n"
   ]
  },
  {
   "cell_type": "code",
   "execution_count": 136,
   "id": "10ffed33-e780-4534-bb86-9f0fa9cf5833",
   "metadata": {},
   "outputs": [
    {
     "name": "stdout",
     "output_type": "stream",
     "text": [
      "[[0. 0. 0. 0. 0. 0.]\n",
      " [0. 0. 0. 0. 0. 0.]\n",
      " [0. 0. 0. 0. 0. 0.]\n",
      " [0. 0. 0. 0. 0. 0.]\n",
      " [0. 0. 0. 0. 0. 0.]]\n"
     ]
    }
   ],
   "source": [
    "# Q51 #\n",
    "\n",
    "import numpy as np\n",
    "\n",
    "print(np.zeros((5,6),dtype=float))"
   ]
  },
  {
   "cell_type": "code",
   "execution_count": 137,
   "id": "d489e198-553a-40cc-a03c-e9b2fc10e5c6",
   "metadata": {},
   "outputs": [
    {
     "name": "stdout",
     "output_type": "stream",
     "text": [
      "[[1 2 5]\n",
      " [3 5 7]\n",
      " [6 8 9]]\n"
     ]
    }
   ],
   "source": [
    "# Q52 #\n",
    "\n",
    "import numpy as np\n",
    "\n",
    "x=np.array([[1,2,5],\n",
    "            [7,5,3],\n",
    "            [9,8,6]])\n",
    "\n",
    "print(np.sort(x))\n",
    "\n"
   ]
  },
  {
   "cell_type": "code",
   "execution_count": 139,
   "id": "9a494f66-b0b7-45cf-a60c-75a3a2e8abb9",
   "metadata": {},
   "outputs": [
    {
     "name": "stdout",
     "output_type": "stream",
     "text": [
      "num less 15 : [10  1  3  8  9 10  9]\n",
      "more than 15 : [44]\n"
     ]
    }
   ],
   "source": [
    "# Q53 #\n",
    "\n",
    "import numpy as np \n",
    "\n",
    "x=np.array([10,1,3,8,9,10,44,9])\n",
    "\n",
    "num=15\n",
    "\n",
    "less=x[x<num]\n",
    "print(\"num less\",num,\":\",less)\n",
    "\n",
    "more=x[x>num]\n",
    "print(\"more than\",num,\":\",more)"
   ]
  },
  {
   "cell_type": "code",
   "execution_count": 143,
   "id": "2b8c052f-939a-40cc-9e90-68f837dfa8e2",
   "metadata": {},
   "outputs": [
    {
     "name": "stdout",
     "output_type": "stream",
     "text": [
      "[1 2 3 4 5]\n",
      "[1 2 3 4 5]\n"
     ]
    }
   ],
   "source": [
    "# Q55 #\n",
    "\n",
    "import numpy as np \n",
    "\n",
    "x=np.array([1,2,3,4,5],dtype=int)\n",
    "new=np.empty_like(x)\n",
    "print(x)\n",
    "print(new)"
   ]
  },
  {
   "cell_type": "code",
   "execution_count": 144,
   "id": "f461cf3e-703c-427b-b274-cb0395baec8e",
   "metadata": {},
   "outputs": [
    {
     "name": "stdout",
     "output_type": "stream",
     "text": [
      "[[[0.26829063 0.60776708 0.04815737 0.69550064]\n",
      "  [0.29927188 0.16563555 0.33225194 0.16543775]\n",
      "  [0.91463798 0.28402501 0.10760726 0.11700177]\n",
      "  [0.7555236  0.83889446 0.03553703 0.12144377]\n",
      "  [0.89100806 0.51509223 0.92441901 0.58124263]]\n",
      "\n",
      " [[0.77325639 0.42267689 0.82546475 0.38540456]\n",
      "  [0.35434596 0.42807852 0.39506518 0.84462971]\n",
      "  [0.37382381 0.37158098 0.41594296 0.42454448]\n",
      "  [0.66280484 0.18977593 0.72247865 0.25366097]\n",
      "  [0.96267414 0.13266125 0.8067967  0.35499545]]\n",
      "\n",
      " [[0.0846383  0.73116878 0.99660085 0.00959277]\n",
      "  [0.23757339 0.46192478 0.76525884 0.97250331]\n",
      "  [0.915947   0.58744678 0.44437533 0.44107594]\n",
      "  [0.69399137 0.72664097 0.73473276 0.38422053]\n",
      "  [0.94539591 0.79366926 0.25781467 0.63648694]]]\n"
     ]
    }
   ],
   "source": [
    "# Q56 #\n",
    "\n",
    "import numpy as np\n",
    "\n",
    "print(np.random.rand(3,5,4))\n"
   ]
  },
  {
   "cell_type": "code",
   "execution_count": 145,
   "id": "ebc77bea-4cee-4ece-9500-acad16b98937",
   "metadata": {},
   "outputs": [
    {
     "name": "stdout",
     "output_type": "stream",
     "text": [
      "[[0.84514052 0.00777515 0.07703627 0.98942514]\n",
      " [0.79096501 0.73688738 0.86638985 0.23075412]\n",
      " [0.10550225 0.74293527 0.47515634 0.75965283]\n",
      " [0.48599313 0.27593379 0.38178337 0.6762014 ]]\n",
      "[[0.98942514 0.07703627 0.00777515 0.84514052]\n",
      " [0.23075412 0.86638985 0.73688738 0.79096501]\n",
      " [0.75965283 0.47515634 0.74293527 0.10550225]\n",
      " [0.6762014  0.38178337 0.27593379 0.48599313]]\n"
     ]
    }
   ],
   "source": [
    "# Q57 #\n",
    "\n",
    "import numpy as np\n",
    "\n",
    "\n",
    "x=np.random.rand(4,4)\n",
    "\n",
    "print(x)\n",
    "\n",
    "swap=x.copy()\n",
    "swap[:, [0,-1]]=swap[:, [-1,0]]\n",
    "\n",
    "swap[:, [1,2]]=swap[:, [2,1]]\n",
    "print(swap)"
   ]
  },
  {
   "cell_type": "code",
   "execution_count": 147,
   "id": "55d00e40-2113-485c-a37f-0b196830a8a1",
   "metadata": {},
   "outputs": [
    {
     "name": "stdout",
     "output_type": "stream",
     "text": [
      "[[ 1  2  3  4]\n",
      " [ 4  5  6  7]\n",
      " [ 7  8  9 10]\n",
      " [11 12 13 14]]\n",
      "[[14 13 12 11]\n",
      " [10  9  8  7]\n",
      " [ 7  6  5  4]\n",
      " [ 4  3  2  1]]\n"
     ]
    }
   ],
   "source": [
    "# Q58 #\n",
    "\n",
    "import numpy as np \n",
    "\n",
    "x=np.array([\n",
    "    [1,2,3,4],\n",
    "    [4,5,6,7],\n",
    "    [7,8,9,10],\n",
    "    [11,12,13,14]])\n",
    "\n",
    "print(x)\n",
    "\n",
    "new=x[::-1, ::-1]\n",
    "\n",
    "print(new)"
   ]
  },
  {
   "cell_type": "code",
   "execution_count": 148,
   "id": "b64d4db1-506e-4341-a10d-74da298e1aee",
   "metadata": {},
   "outputs": [
    {
     "name": "stdout",
     "output_type": "stream",
     "text": [
      "[ 5 12 21 32]\n"
     ]
    }
   ],
   "source": [
    "# Q59 #\n",
    "\n",
    "import numpy as np\n",
    "\n",
    "x=np.array([1,2,3,4])\n",
    "\n",
    "y=np.array([5,6,7,8])\n",
    "\n",
    "print(np.multiply(x,y))"
   ]
  },
  {
   "cell_type": "code",
   "execution_count": null,
   "id": "ee18d994-67ac-4143-a851-b676214802f9",
   "metadata": {},
   "outputs": [],
   "source": []
  }
 ],
 "metadata": {
  "kernelspec": {
   "display_name": "Python 3 (ipykernel)",
   "language": "python",
   "name": "python3"
  },
  "language_info": {
   "codemirror_mode": {
    "name": "ipython",
    "version": 3
   },
   "file_extension": ".py",
   "mimetype": "text/x-python",
   "name": "python",
   "nbconvert_exporter": "python",
   "pygments_lexer": "ipython3",
   "version": "3.11.7"
  }
 },
 "nbformat": 4,
 "nbformat_minor": 5
}
